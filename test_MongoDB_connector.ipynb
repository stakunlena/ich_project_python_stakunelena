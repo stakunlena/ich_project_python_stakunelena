{
 "cells": [
  {
   "cell_type": "code",
   "execution_count": 1,
   "id": "285d6d03",
   "metadata": {},
   "outputs": [
    {
     "name": "stdout",
     "output_type": "stream",
     "text": [
      "Requirement already satisfied: pymongo in c:\\users\\stakun\\.conda\\envs\\yap\\lib\\site-packages (4.13.2)\n",
      "Requirement already satisfied: dnspython<3.0.0,>=1.16.0 in c:\\users\\stakun\\.conda\\envs\\yap\\lib\\site-packages (from pymongo) (2.7.0)\n",
      "Note: you may need to restart the kernel to use updated packages.\n"
     ]
    }
   ],
   "source": [
    "pip install pymongo"
   ]
  },
  {
   "cell_type": "code",
   "execution_count": 5,
   "id": "f835eee6",
   "metadata": {},
   "outputs": [],
   "source": [
    "from pymongo import MongoClient\n",
    "from datetime import datetime\n",
    "\n",
    "def connect_to_mongo():\n",
    "    \"\"\"Устанавливает и возвращает соединение с коллекцией MongoDB.\"\"\"\n",
    "    client = MongoClient(\n",
    "        \"mongodb://ich_editor:verystrongpassword\"\n",
    "        \"@mongo.itcareerhub.de/?readPreference=primary\"\n",
    "        \"&ssl=false&authMechanism=DEFAULT&authSource=ich_edit\"\n",
    "    )\n",
    "    db = client[\"ich_edit\"]\n",
    "    collection = db[\"final_project_100125_stakun_elena\"]\n",
    "    return client, collection\n",
    "\n",
    "def log_search_to_mongo(search_type: str, params: dict, results_count: int):\n",
    "    \"\"\"Записывает структуру запроса в коллекцию MongoDB.\"\"\"\n",
    "    client, collection = connect_to_mongo()\n",
    "\n",
    "    log_entry = {\n",
    "        \"timestamp\": datetime.now().isoformat(timespec='seconds'),\n",
    "        \"search_type\": search_type,\n",
    "        \"params\": params,\n",
    "        \"results_count\": results_count\n",
    "    }\n",
    "\n",
    "    result = collection.insert_one(log_entry)\n",
    "    print(f\"Log inserted with ID: {result.inserted_id}\")\n",
    "\n",
    "    client.close()\n",
    "    \n",
    "def clear_log_collection():\n",
    "    \"\"\"Очищает коллекцию final_project_100125_stakun_elena.\"\"\"\n",
    "    client, collection = connect_to_mongo()\n",
    "    result = collection.delete_many({})\n",
    "    print(f\"{result.deleted_count} documents deleted from the collection.\")\n",
    "    client.close()\n"
   ]
  },
  {
   "cell_type": "code",
   "execution_count": 3,
   "id": "3a5b2ea1",
   "metadata": {},
   "outputs": [
    {
     "name": "stdout",
     "output_type": "stream",
     "text": [
      "Log inserted with ID: 685a8cc80fd975a2c7e5492e\n"
     ]
    }
   ],
   "source": [
    "log_search_to_mongo(\"keyword\", {\"keyword\": \"matrix\"}, 3)"
   ]
  },
  {
   "cell_type": "code",
   "execution_count": 6,
   "id": "ebc2577e",
   "metadata": {},
   "outputs": [
    {
     "name": "stdout",
     "output_type": "stream",
     "text": [
      "1 documents deleted from the collection.\n"
     ]
    }
   ],
   "source": [
    "clear_log_collection()"
   ]
  },
  {
   "cell_type": "code",
   "execution_count": null,
   "id": "10ac5b55",
   "metadata": {},
   "outputs": [],
   "source": []
  }
 ],
 "metadata": {
  "kernelspec": {
   "display_name": "Python 3 (ipykernel)",
   "language": "python",
   "name": "python3"
  },
  "language_info": {
   "codemirror_mode": {
    "name": "ipython",
    "version": 3
   },
   "file_extension": ".py",
   "mimetype": "text/x-python",
   "name": "python",
   "nbconvert_exporter": "python",
   "pygments_lexer": "ipython3",
   "version": "3.10.6"
  },
  "toc": {
   "base_numbering": 1,
   "nav_menu": {},
   "number_sections": true,
   "sideBar": true,
   "skip_h1_title": false,
   "title_cell": "Table of Contents",
   "title_sidebar": "Contents",
   "toc_cell": false,
   "toc_position": {},
   "toc_section_display": true,
   "toc_window_display": false
  }
 },
 "nbformat": 4,
 "nbformat_minor": 5
}
